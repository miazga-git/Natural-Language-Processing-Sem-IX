{
  "nbformat": 4,
  "nbformat_minor": 0,
  "metadata": {
    "colab": {
      "provenance": []
    },
    "kernelspec": {
      "name": "python3",
      "display_name": "Python 3"
    },
    "language_info": {
      "name": "python"
    }
  },
  "cells": [
    {
      "cell_type": "markdown",
      "source": [
        "\n",
        "Książki, które wybrałem do analizy:\n",
        "\n",
        "\n",
        "*   Mały książe\n",
        "*   Dziady II\n",
        "*   Dziady III\n",
        "*   Ogniem i mieczem I\n",
        "*   Ogniem i mieczem II\n",
        "*   Tajemniczy Ogród\n",
        "\n",
        "\n",
        "\n",
        "\n",
        "\n",
        "\n",
        "\n"
      ],
      "metadata": {
        "id": "eEY5-i1U3EP1"
      }
    },
    {
      "cell_type": "code",
      "execution_count": 1,
      "metadata": {
        "id": "mHyLSqHlcS5D",
        "colab": {
          "base_uri": "https://localhost:8080/"
        },
        "outputId": "8832b3d2-9dc4-4d5f-e633-9cfcfaa26906"
      },
      "outputs": [
        {
          "output_type": "stream",
          "name": "stderr",
          "text": [
            "/usr/local/lib/python3.8/dist-packages/torch/cuda/__init__.py:497: UserWarning: Can't initialize NVML\n",
            "  warnings.warn(\"Can't initialize NVML\")\n"
          ]
        }
      ],
      "source": [
        "from urllib.request import urlopen\n",
        "import certifi\n",
        "import spacy\n",
        "from sklearn.feature_extraction.text import CountVectorizer\n",
        "from sklearn.metrics.pairwise import cosine_similarity\n",
        "from sklearn.feature_extraction.text import TfidfVectorizer\n",
        "from sklearn.decomposition import PCA\n",
        "from collections import Counter\n",
        "import numpy as np\n",
        "import pandas as pd\n",
        "import plotly.express as px\n",
        "import matplotlib.pyplot as plt\n",
        "from sklearn.manifold import TSNE"
      ]
    },
    {
      "cell_type": "code",
      "source": [
        "!python3 -m spacy download pl_core_news_lg"
      ],
      "metadata": {
        "id": "CGKuIDKNceXv"
      },
      "execution_count": null,
      "outputs": []
    },
    {
      "cell_type": "code",
      "source": [
        "nlp = spacy.load(\"pl_core_news_lg\")"
      ],
      "metadata": {
        "id": "-2XSLQ-jc9bZ"
      },
      "execution_count": 3,
      "outputs": []
    },
    {
      "cell_type": "code",
      "source": [
        "def book(url):\n",
        "    return urlopen(url).read().decode(\"utf8\")"
      ],
      "metadata": {
        "id": "QO9nG49QdL20"
      },
      "execution_count": 4,
      "outputs": []
    },
    {
      "cell_type": "markdown",
      "source": [
        "## 1. Utworzyć korpus dokumentów na podstawie 5-10 książek pobranych ze strony wolne lektury"
      ],
      "metadata": {
        "id": "NnHITa-839Ku"
      }
    },
    {
      "cell_type": "code",
      "source": [
        "malyKsiaze = book('https://wolnelektury.pl/media/book/txt/saint-exupery-maly-ksiaze.txt')\n",
        "dziady2 = book('https://wolnelektury.pl/media/book/txt/dziady-dziady-poema-dziady-czesc-ii.txt')\n",
        "dziady3 = book('https://wolnelektury.pl/media/book/txt/dziady-dziady-poema-dziady-czesc-iii.txt')\n",
        "ogiemIMieczemT1 = book('https://wolnelektury.pl/media/book/txt/ogniem-i-mieczem-tom-pierwszy.txt')\n",
        "ogniemIMieczemT2 = book('https://wolnelektury.pl/media/book/txt/ogniem-i-mieczem-tom-drugi.txt')\n",
        "tajemniczyOgrod = book('https://wolnelektury.pl/media/book/txt/tajemniczy-ogrod.txt')\n"
      ],
      "metadata": {
        "id": "roZUyp9teVze"
      },
      "execution_count": 5,
      "outputs": []
    },
    {
      "cell_type": "markdown",
      "source": [
        "Dodaję do procesu przetwarzania tokenizację i lematyzację, aby sensowniejsze wyniki otrzymywać w kolejnych krokach i aby łatwiej było wyciągać wnioski na potrzeby komentarzy."
      ],
      "metadata": {
        "id": "wgkyJYh-3pvk"
      }
    },
    {
      "cell_type": "code",
      "source": [
        "def tokenizer(document):\n",
        "\n",
        "    return [word.text.lower() for word in nlp(document) if word.text not in \n",
        "            '\\n\\r\\t!\"-—#$%&()--.*+,-/:;<=>?@[\\\\]^_`{|}~' and word.text.isalpha()]"
      ],
      "metadata": {
        "id": "24t7t3BGepRF"
      },
      "execution_count": 6,
      "outputs": []
    },
    {
      "cell_type": "code",
      "source": [
        "def lemmatizer(document):\n",
        "    return [word.lemma_ for word in nlp(\" \".join(document))]"
      ],
      "metadata": {
        "id": "56vyylyLgQ5M"
      },
      "execution_count": 8,
      "outputs": []
    },
    {
      "cell_type": "code",
      "source": [
        "malyKsiaze = lemmatizer(tokenizer(malyKsiaze))\n",
        "dziady2 = lemmatizer(tokenizer(dziady2))\n",
        "dziady3 = lemmatizer(tokenizer(dziady3))\n",
        "ogiemIMieczemT1 = lemmatizer(tokenizer(ogiemIMieczemT1))\n",
        "ogniemIMieczemT2 = lemmatizer(tokenizer(ogniemIMieczemT2))\n",
        "tajemniczyOgrod = lemmatizer(tokenizer(tajemniczyOgrod))"
      ],
      "metadata": {
        "id": "6ehLwEE3kMJ5"
      },
      "execution_count": 10,
      "outputs": []
    },
    {
      "cell_type": "markdown",
      "source": [
        "## 2. Dla każdej z pozycji zwizualizować częstość występowania tokenów i skomentować zgodność z prawem Zipfa"
      ],
      "metadata": {
        "id": "bFda0Udb4oH1"
      }
    },
    {
      "cell_type": "markdown",
      "source": [
        "Prawo Zipfa - słowa, które występują najczęściej to zazwyczaj słowa najmniej znaczące,\n",
        "\n",
        "Największą wagę w Bag of Words (w wektorze częstotliwości) mają słowa występujące najczęsciej w tekście, ale niosą najmniej informacji, na przykład spójniki (ale, więc itp.) , takie słowa powinny być na stopliście i powinny zostać wycięte z wektora, często również powtarzają się słowa z tytułu, albo jak magazyn jest o samochodach to często pojawi się motyw przewodni - słowo samochód, jednak nie wnosi to zbyt wiele znaczenia przy analizie samych magazynów motoryzacyjnych\n",
        "\n",
        "Frequency * Rank = const"
      ],
      "metadata": {
        "id": "dxwRJ6SElXWe"
      }
    },
    {
      "cell_type": "code",
      "source": [
        "malyKsiazeWordFrequency = Counter(malyKsiaze) # Counter pozwala zliczyć częstość występowania słów ( poddanych wcześniej tokenizacji i lematyzacji )\n",
        "\n",
        "print(malyKsiazeWordFrequency.most_common(10))\n",
        "\n",
        "dziady2WordFrequency = Counter(dziady2)\n",
        "dziady3WordFrequency = Counter(dziady3)\n",
        "ogiemIMieczemT1WordFrequency = Counter(ogiemIMieczemT1)\n",
        "ogniemIMieczemT2WordFrequency = Counter(ogniemIMieczemT2)\n",
        "tajemniczyOgrodWordFrequency = Counter(tajemniczyOgrod)\n",
        "\n"
      ],
      "metadata": {
        "id": "a6jVZSqLlKzP",
        "colab": {
          "base_uri": "https://localhost:8080/"
        },
        "outputId": "76823e41-0477-4a07-c1c1-c88a227f2899"
      },
      "execution_count": 24,
      "outputs": [
        {
          "output_type": "stream",
          "name": "stdout",
          "text": [
            "[('mały', 194), ('książę', 166), ('powiedzieć', 118), ('być', 109), ('nie', 105), ('to', 95), ('mieć', 85), ('on', 75), ('planeta', 68), ('ja', 66)]\n"
          ]
        }
      ]
    },
    {
      "cell_type": "code",
      "source": [
        "import matplotlib.pyplot as plt\n",
        "# most_common(x) zastosowane na zmiennej typu Counter zwraca listę krotek (klucz, wartosc), w naszym przypadku (slowo, czestosc)\n",
        "def show_prawo_Zipfa_plot(list_of_common_words):\n",
        "  words = [] # dane słowa o danej częstości i rankingu zawartych w poniższych listach\n",
        "  words_frequency = [] # częstość występowania danego słowa \n",
        "  ranks = [] # ranking, gdzie 1 - najpopularniejsze słowo\n",
        "  rank = 1\n",
        "  for i in list_of_common_words:\n",
        "    \n",
        "    words.append(i[0])\n",
        "    words_frequency.append(i[1])\n",
        "    ranks.append(rank)\n",
        "    rank = rank + 1\n",
        "\n",
        "  multiply = []\n",
        "  for i in ranks: \n",
        "    multiply.append(i*words_frequency[i-1]) # ranks liczony jest od jedynki, a lista jest indeksowana od 0\n",
        "\n",
        "  plt.bar(words, words_frequency)\n",
        "  plt.show()\n",
        "\n",
        "  print(\"Wykres prezentujący wartości f * r \")\n",
        "\n",
        "  plt.bar(words, multiply)\n",
        "  plt.show()"
      ],
      "metadata": {
        "id": "Zq38WZ7hzPYd"
      },
      "execution_count": 25,
      "outputs": []
    },
    {
      "cell_type": "code",
      "source": [
        "show_prawo_Zipfa_plot(malyKsiazeWordFrequency.most_common(100))\n",
        "show_prawo_Zipfa_plot(dziady2WordFrequency.most_common(100))\n",
        "show_prawo_Zipfa_plot(dziady3WordFrequency.most_common(100))\n",
        "show_prawo_Zipfa_plot(ogiemIMieczemT1WordFrequency.most_common(100))\n",
        "show_prawo_Zipfa_plot(ogniemIMieczemT2WordFrequency.most_common(100))\n",
        "show_prawo_Zipfa_plot(tajemniczyOgrodWordFrequency.most_common(100))"
      ],
      "metadata": {
        "colab": {
          "base_uri": "https://localhost:8080/",
          "height": 1000
        },
        "id": "rx7kvIML1B6U",
        "outputId": "3007a179-7b9a-4eb8-9f51-3ebffb6f3873"
      },
      "execution_count": 26,
      "outputs": [
        {
          "output_type": "display_data",
          "data": {
            "text/plain": [
              "<Figure size 432x288 with 1 Axes>"
            ],
            "image/png": "[encoded data removed]"
          },
          "metadata": {
            "needs_background": "light"
          }
        },
        {
          "output_type": "stream",
          "name": "stdout",
          "text": [
            "Wykres prezentujący wartości f * r \n"
          ]
        },
        {
          "output_type": "display_data",
          "data": {
            "text/plain": [
              "<Figure size 432x288 with 1 Axes>"
            ],
            "image/png": "[encoded data removed]"
          },
          "metadata": {
            "needs_background": "light"
          }
        },
        {
          "output_type": "display_data",
          "data": {
            "text/plain": [
              "<Figure size 432x288 with 1 Axes>"
            ],
            "image/png": "[encoded data removed]"
          },
          "metadata": {
            "needs_background": "light"
          }
        },
        {
          "output_type": "stream",
          "name": "stdout",
          "text": [
            "Wykres prezentujący wartości f * r \n"
          ]
        },
        {
          "output_type": "display_data",
          "data": {
            "text/plain": [
              "<Figure size 432x288 with 1 Axes>"
            ],
            "image/png": "[encoded data removed]"
          },
          "metadata": {
            "needs_background": "light"
          }
        },
        {
          "output_type": "display_data",
          "data": {
            "text/plain": [
              "<Figure size 432x288 with 1 Axes>"
            ],
            "image/png": "[encoded data removed]"
          },
          "metadata": {
            "needs_background": "light"
          }
        },
        {
          "output_type": "stream",
          "name": "stdout",
          "text": [
            "Wykres prezentujący wartości f * r \n"
          ]
        },
        {
          "output_type": "display_data",
          "data": {
            "text/plain": [
              "<Figure size 432x288 with 1 Axes>"
            ],
            "image/png": "[encoded data removed]"
          },
          "metadata": {
            "needs_background": "light"
          }
        },
        {
          "output_type": "display_data",
          "data": {
            "text/plain": [
              "<Figure size 432x288 with 1 Axes>"
            ],
            "image/png": "[encoded data removed]"
          },
          "metadata": {
            "needs_background": "light"
          }
        },
        {
          "output_type": "stream",
          "name": "stdout",
          "text": [
            "Wykres prezentujący wartości f * r \n"
          ]
        },
        {
          "output_type": "display_data",
          "data": {
            "text/plain": [
              "<Figure size 432x288 with 1 Axes>"
            ],
            "image/png": "[encoded data removed]"
          },
          "metadata": {
            "needs_background": "light"
          }
        },
        {
          "output_type": "display_data",
          "data": {
            "text/plain": [
              "<Figure size 432x288 with 1 Axes>"
            ],
            "image/png": "[encoded data removed]"
          },
          "metadata": {
            "needs_background": "light"
          }
        },
        {
          "output_type": "stream",
          "name": "stdout",
          "text": [
            "Wykres prezentujący wartości f * r \n"
          ]
        },
        {
          "output_type": "display_data",
          "data": {
            "text/plain": [
              "<Figure size 432x288 with 1 Axes>"
            ],
            "image/png": "[encoded data removed]"
          },
          "metadata": {
            "needs_background": "light"
          }
        },
        {
          "output_type": "display_data",
          "data": {
            "text/plain": [
              "<Figure size 432x288 with 1 Axes>"
            ],
            "image/png": "[encoded data removed]"
          },
          "metadata": {
            "needs_background": "light"
          }
        },
        {
          "output_type": "stream",
          "name": "stdout",
          "text": [
            "Wykres prezentujący wartości f * r \n"
          ]
        },
        {
          "output_type": "display_data",
          "data": {
            "text/plain": [
              "<Figure size 432x288 with 1 Axes>"
            ],
            "image/png": "[encoded data removed]"
          },
          "metadata": {
            "needs_background": "light"
          }
        }
      ]
    },
    {
      "cell_type": "markdown",
      "source": [
        "Zgodnie z prawem Zipfa, słowa, które obserwujemy najczęściej to słowa takie jak: \"i\", \"on\", \"się\", są to słowa, które nie wnoszą żadnej wartości do analizy tekstu, zatem wykazana została zgodność z prawem Zipfa. Słowa tego rodzaju zostaną usunięte za pomocą stoplisty."
      ],
      "metadata": {
        "id": "LMZYSLvL5h0n"
      }
    },
    {
      "cell_type": "markdown",
      "source": [
        "## 3. Zastosować stoplistę dla języka polskiego"
      ],
      "metadata": {
        "id": "q3BOpU1L55Tj"
      }
    },
    {
      "cell_type": "code",
      "source": [
        "def removeStopwords(document):\n",
        "    stopwords = tokenizer(urlopen('https://raw.githubusercontent.com/bieli/stopwords/master/polish.stopwords.txt').read().decode(\"utf8\"))\n",
        "\n",
        "    for word in document:\n",
        "        if word in stopwords:\n",
        "            document.remove(word)\n",
        "\n",
        "    return document"
      ],
      "metadata": {
        "id": "nQGcWzaKmbmr"
      },
      "execution_count": 27,
      "outputs": []
    },
    {
      "cell_type": "code",
      "source": [
        "malyKsiaze = removeStopwords(malyKsiaze)\n",
        "dziady2 = removeStopwords(dziady2)\n",
        "dziady3 = removeStopwords(dziady3)\n",
        "ogiemIMieczemT1 = removeStopwords(ogiemIMieczemT1)\n",
        "ogniemIMieczemT2 = removeStopwords(ogniemIMieczemT2)\n",
        "tajemniczyOgrod = removeStopwords(tajemniczyOgrod)\n"
      ],
      "metadata": {
        "id": "Y8iRCjgkoL3k"
      },
      "execution_count": 28,
      "outputs": []
    },
    {
      "cell_type": "code",
      "source": [
        "# częstość po usunięciu słów ze stoplisty\n",
        "\n",
        "malyKsiazeWordFrequency = Counter(malyKsiaze)\n",
        "#print(malyKsiazeWordFrequency)\n",
        "dziady2WordFrequency = Counter(dziady2)\n",
        "#print(dziady2WordFrequency)\n",
        "dziady3WordFrequency = Counter(dziady3)\n",
        "#print(dziady3WordFrequency)\n",
        "ogiemIMieczemT1WordFrequency = Counter(ogiemIMieczemT1)\n",
        "#print(ogiemIMieczemT1WordFrequency)\n",
        "ogniemIMieczemT2WordFrequency = Counter(ogniemIMieczemT2)\n",
        "#print(ogniemIMieczemT2WordFrequency)\n",
        "tajemniczyOgrodWordFrequency = Counter(tajemniczyOgrod)\n",
        "#print(tajemniczyOgrodWordFrequency)"
      ],
      "metadata": {
        "id": "D70iJ9-HoofX"
      },
      "execution_count": 29,
      "outputs": []
    },
    {
      "cell_type": "markdown",
      "source": [
        "## 4. Na podstawie korpusu zbudowanego z 5 dowolnych książek (postanowiłem wybrać wszystkie 6) zbudować macierz TF-IDF"
      ],
      "metadata": {
        "id": "d0njefmq6HUU"
      }
    },
    {
      "cell_type": "code",
      "source": [
        "corpus = []\n",
        "corpus.append(\" \".join(malyKsiaze))\n",
        "corpus.append(\" \".join(dziady2))\n",
        "corpus.append(\" \".join(dziady3))\n",
        "corpus.append(\" \".join(ogiemIMieczemT1))\n",
        "corpus.append(\" \".join(ogniemIMieczemT2))\n",
        "corpus.append(\" \".join(tajemniczyOgrod))\n"
      ],
      "metadata": {
        "id": "uRh_S3EGpEvW"
      },
      "execution_count": 30,
      "outputs": []
    },
    {
      "cell_type": "markdown",
      "source": [
        "Macierz TF-IDF: Częstość występowania słowa w dokumencie, ale skorygowana częstością występowania w całym korpusie dokumentów\n",
        "Mniej ważne słowa - mniejsza waga - słowa, które są w każdym dokumencie"
      ],
      "metadata": {
        "id": "-r2XS_apwJke"
      }
    },
    {
      "cell_type": "code",
      "source": [
        "tfidf  =TfidfVectorizer(smooth_idf=False)\n",
        "tfs = tfidf.fit_transform(corpus) \n",
        "tfs.todense()"
      ],
      "metadata": {
        "colab": {
          "base_uri": "https://localhost:8080/"
        },
        "id": "k7cahMT1qnDV",
        "outputId": "826b298b-ec64-4659-a16e-93e6befa521d"
      },
      "execution_count": 31,
      "outputs": [
        {
          "output_type": "execute_result",
          "data": {
            "text/plain": [
              "matrix([[0.        , 0.        , 0.        , ..., 0.        , 0.        ,\n",
              "         0.        ],\n",
              "        [0.        , 0.        , 0.        , ..., 0.        , 0.        ,\n",
              "         0.        ],\n",
              "        [0.        , 0.        , 0.        , ..., 0.        , 0.        ,\n",
              "         0.        ],\n",
              "        [0.00070889, 0.        , 0.00094303, ..., 0.        , 0.00283558,\n",
              "         0.00094303],\n",
              "        [0.00199284, 0.        , 0.        , ..., 0.00066428, 0.00265712,\n",
              "         0.        ],\n",
              "        [0.        , 0.00097679, 0.        , ..., 0.00073427, 0.        ,\n",
              "         0.        ]])"
            ]
          },
          "metadata": {},
          "execution_count": 31
        }
      ]
    },
    {
      "cell_type": "markdown",
      "source": [
        "## 5. W oparciu o podobieństwo cosinusowe zbudować macierz odległości dokumentów"
      ],
      "metadata": {
        "id": "C64KhZecrzLi"
      }
    },
    {
      "cell_type": "markdown",
      "source": [
        "**Notatki:**  macierz podobieństwa cosinusowego jest rozmiaru: liczba dokumentów x liczba dokumentów, przecięcia oznaczają podobieństwo tych dokumentów do siebie"
      ],
      "metadata": {
        "id": "Q4FFOLWbRCyX"
      }
    },
    {
      "cell_type": "code",
      "source": [
        "counts = CountVectorizer().fit_transform(corpus) \n",
        "print(cosine_similarity(counts))\n",
        "cosineSimilarity = pd.DataFrame(np.matrix(cosine_similarity(counts)))\n",
        "cosineSimilarity.columns=[\"malyKsiaze\",\"dziady2\",\"dziady3\",\"ogiemIMieczemT1\",\"ogiemIMieczemT2\",\"tajemniczyOgrod\"]\n",
        "cosineSimilarity.index = [\"malyKsiaze\",\"dziady2\",\"dziady3\",\"ogiemIMieczemT1\",\"ogiemIMieczemT2\",\"tajemniczyOgrod\"]\n",
        "cosineSimilarity"
      ],
      "metadata": {
        "colab": {
          "base_uri": "https://localhost:8080/",
          "height": 347
        },
        "id": "hwdH2SV2r15X",
        "outputId": "5f044a40-2ed2-4fc3-97fe-22c5304d9d84"
      },
      "execution_count": 32,
      "outputs": [
        {
          "output_type": "stream",
          "name": "stdout",
          "text": [
            "[[1.         0.36969376 0.5694389  0.54895821 0.56574919 0.59159139]\n",
            " [0.36969376 1.         0.49902928 0.38361775 0.38356266 0.36984778]\n",
            " [0.5694389  0.49902928 1.         0.63723679 0.64209742 0.6039394 ]\n",
            " [0.54895821 0.38361775 0.63723679 1.         0.92671175 0.63901867]\n",
            " [0.56574919 0.38356266 0.64209742 0.92671175 1.         0.6490669 ]\n",
            " [0.59159139 0.36984778 0.6039394  0.63901867 0.6490669  1.        ]]\n"
          ]
        },
        {
          "output_type": "execute_result",
          "data": {
            "text/plain": [
              "                 malyKsiaze   dziady2   dziady3  ogiemIMieczemT1  \\\n",
              "malyKsiaze         1.000000  0.369694  0.569439         0.548958   \n",
              "dziady2            0.369694  1.000000  0.499029         0.383618   \n",
              "dziady3            0.569439  0.499029  1.000000         0.637237   \n",
              "ogiemIMieczemT1    0.548958  0.383618  0.637237         1.000000   \n",
              "ogiemIMieczemT2    0.565749  0.383563  0.642097         0.926712   \n",
              "tajemniczyOgrod    0.591591  0.369848  0.603939         0.639019   \n",
              "\n",
              "                 ogiemIMieczemT2  tajemniczyOgrod  \n",
              "malyKsiaze              0.565749         0.591591  \n",
              "dziady2                 0.383563         0.369848  \n",
              "dziady3                 0.642097         0.603939  \n",
              "ogiemIMieczemT1         0.926712         0.639019  \n",
              "ogiemIMieczemT2         1.000000         0.649067  \n",
              "tajemniczyOgrod         0.649067         1.000000  "
            ],
            "text/html": [
              "\n",
              "  <div id=\"df-4a93b727-85ce-43f7-b990-af23c9245c89\">\n",
              "    <div class=\"colab-df-container\">\n",
              "      <div>\n",
              "<style scoped>\n",
              "    .dataframe tbody tr th:only-of-type {\n",
              "        vertical-align: middle;\n",
              "    }\n",
              "\n",
              "    .dataframe tbody tr th {\n",
              "        vertical-align: top;\n",
              "    }\n",
              "\n",
              "    .dataframe thead th {\n",
              "        text-align: right;\n",
              "    }\n",
              "</style>\n",
              "<table border=\"1\" class=\"dataframe\">\n",
              "  <thead>\n",
              "    <tr style=\"text-align: right;\">\n",
              "      <th></th>\n",
              "      <th>malyKsiaze</th>\n",
              "      <th>dziady2</th>\n",
              "      <th>dziady3</th>\n",
              "      <th>ogiemIMieczemT1</th>\n",
              "      <th>ogiemIMieczemT2</th>\n",
              "      <th>tajemniczyOgrod</th>\n",
              "    </tr>\n",
              "  </thead>\n",
              "  <tbody>\n",
              "    <tr>\n",
              "      <th>malyKsiaze</th>\n",
              "      <td>1.000000</td>\n",
              "      <td>0.369694</td>\n",
              "      <td>0.569439</td>\n",
              "      <td>0.548958</td>\n",
              "      <td>0.565749</td>\n",
              "      <td>0.591591</td>\n",
              "    </tr>\n",
              "    <tr>\n",
              "      <th>dziady2</th>\n",
              "      <td>0.369694</td>\n",
              "      <td>1.000000</td>\n",
              "      <td>0.499029</td>\n",
              "      <td>0.383618</td>\n",
              "      <td>0.383563</td>\n",
              "      <td>0.369848</td>\n",
              "    </tr>\n",
              "    <tr>\n",
              "      <th>dziady3</th>\n",
              "      <td>0.569439</td>\n",
              "      <td>0.499029</td>\n",
              "      <td>1.000000</td>\n",
              "      <td>0.637237</td>\n",
              "      <td>0.642097</td>\n",
              "      <td>0.603939</td>\n",
              "    </tr>\n",
              "    <tr>\n",
              "      <th>ogiemIMieczemT1</th>\n",
              "      <td>0.548958</td>\n",
              "      <td>0.383618</td>\n",
              "      <td>0.637237</td>\n",
              "      <td>1.000000</td>\n",
              "      <td>0.926712</td>\n",
              "      <td>0.639019</td>\n",
              "    </tr>\n",
              "    <tr>\n",
              "      <th>ogiemIMieczemT2</th>\n",
              "      <td>0.565749</td>\n",
              "      <td>0.383563</td>\n",
              "      <td>0.642097</td>\n",
              "      <td>0.926712</td>\n",
              "      <td>1.000000</td>\n",
              "      <td>0.649067</td>\n",
              "    </tr>\n",
              "    <tr>\n",
              "      <th>tajemniczyOgrod</th>\n",
              "      <td>0.591591</td>\n",
              "      <td>0.369848</td>\n",
              "      <td>0.603939</td>\n",
              "      <td>0.639019</td>\n",
              "      <td>0.649067</td>\n",
              "      <td>1.000000</td>\n",
              "    </tr>\n",
              "  </tbody>\n",
              "</table>\n",
              "</div>\n",
              "      <button class=\"colab-df-convert\" onclick=\"convertToInteractive('df-4a93b727-85ce-43f7-b990-af23c9245c89')\"\n",
              "              title=\"Convert this dataframe to an interactive table.\"\n",
              "              style=\"display:none;\">\n",
              "        \n",
              "  <svg xmlns=\"http://www.w3.org/2000/svg\" height=\"24px\"viewBox=\"0 0 24 24\"\n",
              "       width=\"24px\">\n",
              "    <path d=\"M0 0h24v24H0V0z\" fill=\"none\"/>\n",
              "    <path d=\"M18.56 5.44l.94 2.06.94-2.06 2.06-.94-2.06-.94-.94-2.06-.94 2.06-2.06.94zm-11 1L8.5 8.5l.94-2.06 2.06-.94-2.06-.94L8.5 2.5l-.94 2.06-2.06.94zm10 10l.94 2.06.94-2.06 2.06-.94-2.06-.94-.94-2.06-.94 2.06-2.06.94z\"/><path d=\"M17.41 7.96l-1.37-1.37c-.4-.4-.92-.59-1.43-.59-.52 0-1.04.2-1.43.59L10.3 9.45l-7.72 7.72c-.78.78-.78 2.05 0 2.83L4 21.41c.39.39.9.59 1.41.59.51 0 1.02-.2 1.41-.59l7.78-7.78 2.81-2.81c.8-.78.8-2.07 0-2.86zM5.41 20L4 18.59l7.72-7.72 1.47 1.35L5.41 20z\"/>\n",
              "  </svg>\n",
              "      </button>\n",
              "      \n",
              "  <style>\n",
              "    .colab-df-container {\n",
              "      display:flex;\n",
              "      flex-wrap:wrap;\n",
              "      gap: 12px;\n",
              "    }\n",
              "\n",
              "    .colab-df-convert {\n",
              "      background-color: #E8F0FE;\n",
              "      border: none;\n",
              "      border-radius: 50%;\n",
              "      cursor: pointer;\n",
              "      display: none;\n",
              "      fill: #1967D2;\n",
              "      height: 32px;\n",
              "      padding: 0 0 0 0;\n",
              "      width: 32px;\n",
              "    }\n",
              "\n",
              "    .colab-df-convert:hover {\n",
              "      background-color: #E2EBFA;\n",
              "      box-shadow: 0px 1px 2px rgba(60, 64, 67, 0.3), 0px 1px 3px 1px rgba(60, 64, 67, 0.15);\n",
              "      fill: #174EA6;\n",
              "    }\n",
              "\n",
              "    [theme=dark] .colab-df-convert {\n",
              "      background-color: #3B4455;\n",
              "      fill: #D2E3FC;\n",
              "    }\n",
              "\n",
              "    [theme=dark] .colab-df-convert:hover {\n",
              "      background-color: #434B5C;\n",
              "      box-shadow: 0px 1px 3px 1px rgba(0, 0, 0, 0.15);\n",
              "      filter: drop-shadow(0px 1px 2px rgba(0, 0, 0, 0.3));\n",
              "      fill: #FFFFFF;\n",
              "    }\n",
              "  </style>\n",
              "\n",
              "      <script>\n",
              "        const buttonEl =\n",
              "          document.querySelector('#df-4a93b727-85ce-43f7-b990-af23c9245c89 button.colab-df-convert');\n",
              "        buttonEl.style.display =\n",
              "          google.colab.kernel.accessAllowed ? 'block' : 'none';\n",
              "\n",
              "        async function convertToInteractive(key) {\n",
              "          const element = document.querySelector('#df-4a93b727-85ce-43f7-b990-af23c9245c89');\n",
              "          const dataTable =\n",
              "            await google.colab.kernel.invokeFunction('convertToInteractive',\n",
              "                                                     [key], {});\n",
              "          if (!dataTable) return;\n",
              "\n",
              "          const docLinkHtml = 'Like what you see? Visit the ' +\n",
              "            '<a target=\"_blank\" href=https://colab.research.google.com/notebooks/data_table.ipynb>data table notebook</a>'\n",
              "            + ' to learn more about interactive tables.';\n",
              "          element.innerHTML = '';\n",
              "          dataTable['output_type'] = 'display_data';\n",
              "          await google.colab.output.renderOutput(dataTable, element);\n",
              "          const docLink = document.createElement('div');\n",
              "          docLink.innerHTML = docLinkHtml;\n",
              "          element.appendChild(docLink);\n",
              "        }\n",
              "      </script>\n",
              "    </div>\n",
              "  </div>\n",
              "  "
            ]
          },
          "metadata": {},
          "execution_count": 32
        }
      ]
    },
    {
      "cell_type": "markdown",
      "source": [
        "## 6. Przeprowadzić redukcję wymiarowości wymiarów macierzy TF-IDF do 2 wymiarów i zwizualizować położenie dokumentów na układzie współrzędnych"
      ],
      "metadata": {
        "id": "mm4D4L6Jzwyj"
      }
    },
    {
      "cell_type": "code",
      "source": [
        "books = {0: 'Mały Książę', 1: 'Dziady2', 2: 'Dziady3', 3: 'Ogniem i Mieczem Tom 1', 4: 'Ogniem i Mieczem Tom 2', 5: 'Tajemniczy Ogród'}\n",
        "books_pca = PCA(n_components=2).fit_transform(tfs.todense())\n",
        "fig, ax = plt.subplots()\n",
        "\n",
        "for i,null in enumerate(books_pca):\n",
        "    \n",
        "    pcaCoord1, pcaCoord2 = books_pca[i]\n",
        "    book = books[i]\n",
        "    ax.scatter(pcaCoord1, pcaCoord2, label=book)\n",
        "    \n",
        "plt.legend();\n",
        "plt.show();"
      ],
      "metadata": {
        "colab": {
          "base_uri": "https://localhost:8080/",
          "height": 322
        },
        "id": "1SEd37lAgWrZ",
        "outputId": "e6ea922e-b880-4d65-959e-270ad7afa114"
      },
      "execution_count": 33,
      "outputs": [
        {
          "output_type": "stream",
          "name": "stderr",
          "text": [
            "/usr/local/lib/python3.8/dist-packages/sklearn/utils/validation.py:593: FutureWarning: np.matrix usage is deprecated in 1.0 and will raise a TypeError in 1.2. Please convert to a numpy array with np.asarray. For more information see: https://numpy.org/doc/stable/reference/generated/numpy.matrix.html\n",
            "  warnings.warn(\n"
          ]
        },
        {
          "output_type": "display_data",
          "data": {
            "text/plain": [
              "<Figure size 432x288 with 1 Axes>"
            ],
            "image/png": "[encoded data removed]"
          },
          "metadata": {
            "needs_background": "light"
          }
        }
      ]
    },
    {
      "cell_type": "markdown",
      "source": [
        "## 7. Skomentować spójność wyników z punktu 4 i 5"
      ],
      "metadata": {
        "id": "2M7U_3BB7kgV"
      }
    },
    {
      "cell_type": "markdown",
      "source": [
        "Komentarz: im kropeczki bliżej siebie tym podobieństwo książek, które reprezentują te kropki jest większe. Zasadniczo dwie książki będące kolejnymi częsciami trylogii wykazują duże podobieństwo co zaobserwowano dla \"Ogniem i Mieczem Tom1\" oraz \"Ogniem i Mieczem Tom2\".\n",
        "W przypadku tabeli prezentującej podobieństwo cosinusowe, im większa liczba na przecięciu, tym większe podobieństwo książek do siebie, dlatego w tabeli prezentującej wyniki można zaobserwować jedynki na przecięciu się ze sobą tego samego tytułu. Z tabeli prezentującej podobieństwo cosinusowe można wywnioskować, że Tajemniczy ogród wykazuje spore podobieństwo do Ogniem i Mieczem I oraz II, niekoniecznie widać to akurat na wykresie po redukcji wymiarów. Ciekawym dla mnie wynikiem jest fakt, że obie analizowane części Dziadów nie wykazują aż tak dużego podobieństwa do siebie."
      ],
      "metadata": {
        "id": "REj0rRlRpNT-"
      }
    }
  ]
}